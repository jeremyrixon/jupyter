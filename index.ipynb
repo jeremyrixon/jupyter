{
 "cells": [
  {
   "cell_type": "markdown",
   "metadata": {},
   "source": [
    "### Intro bullet points:"
   ]
  },
  {
   "cell_type": "markdown",
   "metadata": {},
   "source": [
    "* Particles behave as waves, just like photons do\n",
    "* These are called Matter Waves (https://en.wikipedia.org/wiki/Matter_wave)\n",
    "* The heavier the particle, the shorter the wavelength\n",
    "* Things like electrons and protons are much heavier than photons so they have much shorter wavelengths\n",
    "* That's why the wave-like nature of matter particles wasn't noticed until De Broglie proposed their existence\n",
    "* When a particle moves, its wavefunction spreads out until its position is observed\n",
    "* When the particle's position is observed, its location is determined by the probabilities described by the wavefunction\n",
    "* Because the wavefunction behaves like a wave, it interferes with itself to cause peaks and troughs\n",
    "* The peaks and troughs determine the probability of finding the particle at a particular location\n",
    "* If the wavefunction cancels itself out (adds up to 0) at any point, the particle will never been found there\n",
    "* \"Bound\" states vs \"Free\" states\n",
    "* What is \"quantum\" about quantum physics: bound states\n",
    "* Spin: wtf is quantum mechanical spin?"
   ]
  },
  {
   "cell_type": "markdown",
   "metadata": {},
   "source": [
    "### Matrix mechanics\n",
    "\n",
    "An old fashioned (but nevertheless correct) way to look at the maths of quantum mechanics is matrix mechanics.\n",
    "\n",
    "Matrices hold the information about a quantum system."
   ]
  },
  {
   "cell_type": "code",
   "execution_count": 162,
   "metadata": {},
   "outputs": [],
   "source": [
    "import math\n",
    "import numpy as np\n",
    "from IPython.display import display, Math\n",
    "\n",
    "def num_to_string(num):\n",
    "    [r, i] = [num.real, num.imag] if np.ndim(num) == 0 else num\n",
    "    r = round(r, 6)\n",
    "    i = round(i, 6)\n",
    "    if i == 0:\n",
    "        return str(r)\n",
    "    if r == 0:\n",
    "        return str(i) + \"i\"\n",
    "    return str(r) + \" + \" + str(i) + \"i\"\n",
    "\n",
    "\n",
    "def row_to_string(row):\n",
    "    return \"&\".join(map(num_to_string, row))\n",
    "\n",
    "\n",
    "def print_matrix(name, matrix):\n",
    "    row_sep = r\"\\\\\"\n",
    "    o = rf\"\"\"$$$\n",
    "        \\large{{\n",
    "            \\begin{{align*}}\n",
    "            {name} &= \n",
    "            \\begin{{pmatrix}}\n",
    "            {row_sep.join(map(row_to_string, matrix))}\n",
    "            \\end{{pmatrix}}\n",
    "            \\end{{align*}}\n",
    "        }}\n",
    "    $$$\"\"\"\n",
    "    display(Math(o))\n",
    "\n",
    "def print_eqn(a, b, c):\n",
    "    row_sep = r\"\\\\\"\n",
    "    o = rf\"\"\"$$$\n",
    "        \\large{{\n",
    "            \\begin{{equation}}\n",
    "\n",
    "            \\begin{{pmatrix}}\n",
    "            {row_sep.join(map(row_to_string, a))}\n",
    "            \\end{{pmatrix}}\n",
    "\n",
    "            \\cdot \n",
    "\n",
    "            \\begin{{pmatrix}}\n",
    "            {row_sep.join(map(row_to_string, b))}\n",
    "            \\end{{pmatrix}}\n",
    "\n",
    "            =\n",
    "\n",
    "            {row_sep.join(map(row_to_string, c))}\n",
    "\n",
    "            \\end{{equation}}\n",
    "        }}\n",
    "    $$$\"\"\"\n",
    "    display(Math(o))\n",
    "\n",
    "def print_square(a):\n",
    "    while np.ndim(a) > 0:\n",
    "        a = a[0]\n",
    "    o = rf\"\"\"$$$\n",
    "        \\large{{\n",
    "            \\begin{{equation}}\n",
    "            {round(a, 6)}^2 = {round(a*a,6)}\n",
    "            \\end{{equation}}\n",
    "        }}\n",
    "    $$$\"\"\"\n",
    "    display(Math(o))    \n",
    "    \n",
    "s1 = np.array([[0, 1],\n",
    "               [1, 0]])\n",
    "\n",
    "s2 = np.array([[0, -1j],\n",
    "               [1j,  0]])\n",
    "\n",
    "s3 = np.array([[1, 0],\n",
    "               [0, -1]])\n",
    "\n",
    "z = np.array([[0, 0],\n",
    "              [0, 0]])\n"
   ]
  },
  {
   "cell_type": "markdown",
   "metadata": {},
   "source": [
    "### Electron spin\n",
    "\n",
    "Electrons have a have a spin component (spin 1/2) so they are always spinning.\n",
    "\n",
    "By convention, if they are spinning clockwise around a vertical axis they have a spin of 'up'.\n",
    "\n",
    "If they are spinning anti-clockwise around a vertical axis they have a spin of 'down'.\n",
    "\n",
    "This is the 'left hand rule'. If you curl the fingers of your left hand in the direction of the spin, your thumb will point up or down accordingly.\n",
    "\n",
    "In a non-quantum world you could use one number to describe whether an electron has spin up or has spin down. Say, 1 for up and -1 for down. Or 1 for up and 0 for down.\n",
    "\n",
    "But an electron can be in a super-position of states. So when you measure its spin, it has some probability of having spin up and some probability of being spin down.\n",
    "\n",
    "\n",
    "#### Spin up state\n",
    "In a 'pure' state, it behaves in a normal non-quantum way. A pure state for 'spin up' would say that the electron has 100% likelihood of being in the spin up state and 0% likelihood of being in spin down state.\n"
   ]
  },
  {
   "cell_type": "code",
   "execution_count": 163,
   "metadata": {},
   "outputs": [
    {
     "data": {
      "text/latex": [
       "$\\displaystyle \n",
       "        \\large{\n",
       "            \\begin{align*}\n",
       "            u &= \n",
       "            \\begin{pmatrix}\n",
       "            1\\\\0\n",
       "            \\end{pmatrix}\n",
       "            \\end{align*}\n",
       "        }\n",
       "    $"
      ],
      "text/plain": [
       "<IPython.core.display.Math object>"
      ]
     },
     "metadata": {},
     "output_type": "display_data"
    }
   ],
   "source": [
    "u = np.array([[1],\n",
    "              [0]])\n",
    "print_matrix(\"u\", u)"
   ]
  },
  {
   "cell_type": "markdown",
   "metadata": {},
   "source": [
    "\n",
    "#### Spin down state\n",
    "\n",
    "A pure state for 'spin down' would say that the electron has 0% likelihood of being in the spin up state and 100% likelihood of being in spin down state:"
   ]
  },
  {
   "cell_type": "code",
   "execution_count": 164,
   "metadata": {},
   "outputs": [
    {
     "data": {
      "text/latex": [
       "$\\displaystyle \n",
       "        \\large{\n",
       "            \\begin{align*}\n",
       "            d &= \n",
       "            \\begin{pmatrix}\n",
       "            0\\\\1\n",
       "            \\end{pmatrix}\n",
       "            \\end{align*}\n",
       "        }\n",
       "    $"
      ],
      "text/plain": [
       "<IPython.core.display.Math object>"
      ]
     },
     "metadata": {},
     "output_type": "display_data"
    }
   ],
   "source": [
    "d = np.array([[0],\n",
    "              [1]])\n",
    "print_matrix(\"d\", d)\n"
   ]
  },
  {
   "cell_type": "markdown",
   "metadata": {},
   "source": [
    "\n",
    "\n",
    "---\n",
    "#### Observing the spin state of an electron\n",
    "\n",
    "Now we get to the good stuff. We can calculate the probability of observing an electron in a certain spin state by multiplying state of the electron (one of those 'up' or 'down' matrices above) with another matrix. Different observations will have different matrices.\n",
    "\n",
    "To see if an electron is in the up state you multiply it with this matrix:\n"
   ]
  },
  {
   "cell_type": "code",
   "execution_count": 165,
   "metadata": {
    "scrolled": true
   },
   "outputs": [
    {
     "data": {
      "text/latex": [
       "$\\displaystyle \n",
       "        \\large{\n",
       "            \\begin{align*}\n",
       "            s3 \\cdot u &= \n",
       "            \\begin{pmatrix}\n",
       "            1\\\\0\n",
       "            \\end{pmatrix}\n",
       "            \\end{align*}\n",
       "        }\n",
       "    $"
      ],
      "text/plain": [
       "<IPython.core.display.Math object>"
      ]
     },
     "metadata": {},
     "output_type": "display_data"
    }
   ],
   "source": [
    "s3 = np.array([[1, 0],\n",
    "               [0, -1]])\n",
    "s3_dot_u = np.dot(s3, u)\n",
    "print_matrix(\"s3 \\cdot u\", s3_dot_u)"
   ]
  },
  {
   "cell_type": "markdown",
   "metadata": {},
   "source": [
    "\n",
    "To see if an electron is in the down state you multiply it with this matrix:\n"
   ]
  },
  {
   "cell_type": "code",
   "execution_count": 166,
   "metadata": {
    "scrolled": true
   },
   "outputs": [
    {
     "data": {
      "text/latex": [
       "$\\displaystyle \n",
       "        \\large{\n",
       "            \\begin{align*}\n",
       "            s3 \\cdot d &= \n",
       "            \\begin{pmatrix}\n",
       "            0\\\\-1\n",
       "            \\end{pmatrix}\n",
       "            \\end{align*}\n",
       "        }\n",
       "    $"
      ],
      "text/plain": [
       "<IPython.core.display.Math object>"
      ]
     },
     "metadata": {},
     "output_type": "display_data"
    }
   ],
   "source": [
    "s3 = np.array([[1, 0],\n",
    "               [0, -1]])\n",
    "s3_dot_d = np.dot(s3, d)\n",
    "print_matrix(\"s3 \\cdot d\", s3_dot_d)"
   ]
  },
  {
   "cell_type": "markdown",
   "metadata": {},
   "source": [
    "So, let's observe an electron that we know is in the up state. We'll check to see if it is indeed in the up state."
   ]
  },
  {
   "cell_type": "code",
   "execution_count": 167,
   "metadata": {
    "scrolled": true
   },
   "outputs": [
    {
     "data": {
      "text/latex": [
       "$\\displaystyle \n",
       "        \\large{\n",
       "            \\begin{equation}\n",
       "\n",
       "            \\begin{pmatrix}\n",
       "            1\\\\0\n",
       "            \\end{pmatrix}\n",
       "\n",
       "            \\cdot \n",
       "\n",
       "            \\begin{pmatrix}\n",
       "            1\\\\0\n",
       "            \\end{pmatrix}\n",
       "\n",
       "            =\n",
       "\n",
       "            1\n",
       "\n",
       "            \\end{equation}\n",
       "        }\n",
       "    $"
      ],
      "text/plain": [
       "<IPython.core.display.Math object>"
      ]
     },
     "metadata": {},
     "output_type": "display_data"
    }
   ],
   "source": [
    "u_dot_s3_dot_u = np.dot(u.conj().T, s3_dot_u)\n",
    "print_eqn(u, s3_dot_u, u_dot_s3_dot_u)"
   ]
  },
  {
   "cell_type": "markdown",
   "metadata": {},
   "source": [
    "#### A confession (not the last)\n",
    "The above matrix multiplication actually doesn't work. You actually need to rotate (transpose) the first matrix:"
   ]
  },
  {
   "cell_type": "code",
   "execution_count": 168,
   "metadata": {},
   "outputs": [
    {
     "data": {
      "text/latex": [
       "$\\displaystyle \n",
       "        \\large{\n",
       "            \\begin{equation}\n",
       "\n",
       "            \\begin{pmatrix}\n",
       "            1&0\n",
       "            \\end{pmatrix}\n",
       "\n",
       "            \\cdot \n",
       "\n",
       "            \\begin{pmatrix}\n",
       "            1\\\\0\n",
       "            \\end{pmatrix}\n",
       "\n",
       "            =\n",
       "\n",
       "            1\n",
       "\n",
       "            \\end{equation}\n",
       "        }\n",
       "    $"
      ],
      "text/plain": [
       "<IPython.core.display.Math object>"
      ]
     },
     "metadata": {},
     "output_type": "display_data"
    }
   ],
   "source": [
    "u_dot_s3_dot_u = np.dot(u.conj().T, s3_dot_u)\n",
    "print_eqn(u.conj().T, s3_dot_u, u_dot_s3_dot_u)"
   ]
  },
  {
   "cell_type": "markdown",
   "metadata": {},
   "source": [
    "So we see that there is a 100% probability that an electron in the up state will be observed in the up state.\n",
    "\n",
    "What about an electron in the down state? What is the probability that it will be observed in the up state?"
   ]
  },
  {
   "cell_type": "code",
   "execution_count": 169,
   "metadata": {},
   "outputs": [
    {
     "data": {
      "text/latex": [
       "$\\displaystyle \n",
       "        \\large{\n",
       "            \\begin{equation}\n",
       "\n",
       "            \\begin{pmatrix}\n",
       "            0&1\n",
       "            \\end{pmatrix}\n",
       "\n",
       "            \\cdot \n",
       "\n",
       "            \\begin{pmatrix}\n",
       "            1\\\\0\n",
       "            \\end{pmatrix}\n",
       "\n",
       "            =\n",
       "\n",
       "            0\n",
       "\n",
       "            \\end{equation}\n",
       "        }\n",
       "    $"
      ],
      "text/plain": [
       "<IPython.core.display.Math object>"
      ]
     },
     "metadata": {},
     "output_type": "display_data"
    }
   ],
   "source": [
    "d_dot_s3_dot_u = np.dot(d.conj().T, s3_dot_u)\n",
    "print_eqn(d.conj().T, s3_dot_u, d_dot_s3_dot_u)"
   ]
  },
  {
   "cell_type": "markdown",
   "metadata": {},
   "source": [
    "Makes sense."
   ]
  },
  {
   "cell_type": "markdown",
   "metadata": {},
   "source": [
    "\n",
    "#### Mixed state\n",
    "\n",
    "Let's say an electron is in a state where it's equally likely to be measured in an up state or a down state. It's not actually in either of those states until it is measured. So, 50% up and 50% down:"
   ]
  },
  {
   "cell_type": "code",
   "execution_count": 170,
   "metadata": {},
   "outputs": [
    {
     "data": {
      "text/latex": [
       "$\\displaystyle \n",
       "        \\large{\n",
       "            \\begin{align*}\n",
       "            electron &= \n",
       "            \\begin{pmatrix}\n",
       "            0.707107\\\\0.707107\n",
       "            \\end{pmatrix}\n",
       "            \\end{align*}\n",
       "        }\n",
       "    $"
      ],
      "text/plain": [
       "<IPython.core.display.Math object>"
      ]
     },
     "metadata": {},
     "output_type": "display_data"
    }
   ],
   "source": [
    "u_plus_d = u + d\n",
    "u_plus_d = u_plus_d / np.linalg.norm(u_plus_d)\n",
    "print_matrix(\"electron\", u_plus_d)"
   ]
  },
  {
   "cell_type": "code",
   "execution_count": 171,
   "metadata": {
    "scrolled": false
   },
   "outputs": [
    {
     "data": {
      "text/latex": [
       "$\\displaystyle \n",
       "        \\large{\n",
       "            \\begin{equation}\n",
       "\n",
       "            \\begin{pmatrix}\n",
       "            0.707107&0.707107\n",
       "            \\end{pmatrix}\n",
       "\n",
       "            \\cdot \n",
       "\n",
       "            \\begin{pmatrix}\n",
       "            1\\\\0\n",
       "            \\end{pmatrix}\n",
       "\n",
       "            =\n",
       "\n",
       "            0.707107\n",
       "\n",
       "            \\end{equation}\n",
       "        }\n",
       "    $"
      ],
      "text/plain": [
       "<IPython.core.display.Math object>"
      ]
     },
     "metadata": {},
     "output_type": "display_data"
    }
   ],
   "source": [
    "u_plus_d_dot_s3_dot_u = np.dot(u_plus_d.conj().T, s3_dot_u)\n",
    "print_eqn(u_plus_d.conj().T, s3_dot_u, u_plus_d_dot_s3_dot_u)"
   ]
  },
  {
   "cell_type": "markdown",
   "metadata": {},
   "source": [
    "#### Another confession: we need to square the probability\n",
    "It turns out that we need to square the result to get the actual probability. Until now we haven't needed to because the numbers were either 1 or 0.\n"
   ]
  },
  {
   "cell_type": "code",
   "execution_count": 172,
   "metadata": {
    "scrolled": true
   },
   "outputs": [
    {
     "data": {
      "text/latex": [
       "$\\displaystyle \n",
       "        \\large{\n",
       "            \\begin{equation}\n",
       "            0.707107^2 = 0.5\n",
       "            \\end{equation}\n",
       "        }\n",
       "    $"
      ],
      "text/plain": [
       "<IPython.core.display.Math object>"
      ]
     },
     "metadata": {},
     "output_type": "display_data"
    }
   ],
   "source": [
    "print_square(u_plus_d_dot_s3_dot_u)"
   ]
  },
  {
   "cell_type": "markdown",
   "metadata": {},
   "source": [
    "So our electron has a 50% chance of being in the up state when we measure it."
   ]
  },
  {
   "cell_type": "markdown",
   "metadata": {},
   "source": [
    "#### Two entangled particles: an electron and a positron \n",
    "\n",
    "It's possible to create two particles at the same time that have opposite spin. These two particles will be entangled and neither of them are definitely up or definitely down but they are guaranteed to have opposite spin. Measuring the spin of one particles will make the other particle take the opposite spin.\n",
    "\n",
    "This is the matrix for the entangled state:"
   ]
  },
  {
   "cell_type": "code",
   "execution_count": 173,
   "metadata": {},
   "outputs": [
    {
     "data": {
      "text/latex": [
       "$\\displaystyle \n",
       "        \\large{\n",
       "            \\begin{align*}\n",
       "             &= \n",
       "            \\begin{pmatrix}\n",
       "            0.0\\\\0.707107\\\\-0.707107\\\\0.0\n",
       "            \\end{pmatrix}\n",
       "            \\end{align*}\n",
       "        }\n",
       "    $"
      ],
      "text/plain": [
       "<IPython.core.display.Math object>"
      ]
     },
     "metadata": {},
     "output_type": "display_data"
    }
   ],
   "source": [
    "psi = 1/math.sqrt(2)*(np.kron(u, d) - np.kron(d, u))\n",
    "print_matrix(\"\", psi)\n"
   ]
  },
  {
   "cell_type": "code",
   "execution_count": 180,
   "metadata": {},
   "outputs": [
    {
     "data": {
      "text/latex": [
       "$\\displaystyle \n",
       "        \\large{\n",
       "            \\begin{align*}\n",
       "             &= \n",
       "            \\begin{pmatrix}\n",
       "            1.0&0.0&0.0&0.0\\\\0.0&1.0&0.0&0.0\\\\0.0&0.0&-1.0&-0.0\\\\0.0&0.0&-0.0&-1.0\n",
       "            \\end{pmatrix}\n",
       "            \\end{align*}\n",
       "        }\n",
       "    $"
      ],
      "text/plain": [
       "<IPython.core.display.Math object>"
      ]
     },
     "metadata": {},
     "output_type": "display_data"
    }
   ],
   "source": [
    "a3 = np.kron(s3, np.identity(2))\n",
    "print_matrix(\"\", a3)"
   ]
  },
  {
   "cell_type": "code",
   "execution_count": 188,
   "metadata": {
    "scrolled": true
   },
   "outputs": [
    {
     "data": {
      "text/latex": [
       "$\\displaystyle \n",
       "        \\large{\n",
       "            \\begin{align*}\n",
       "             &= \n",
       "            \\begin{pmatrix}\n",
       "            1.0\\\\1.0\\\\0.0\\\\0.0\n",
       "            \\end{pmatrix}\n",
       "            \\end{align*}\n",
       "        }\n",
       "    $"
      ],
      "text/plain": [
       "<IPython.core.display.Math object>"
      ]
     },
     "metadata": {},
     "output_type": "display_data"
    }
   ],
   "source": [
    "t = np.dot(a3, np.kron(u, np.array([[1],[1]])))\n",
    "print_matrix(\"\",t)"
   ]
  },
  {
   "cell_type": "code",
   "execution_count": 189,
   "metadata": {},
   "outputs": [
    {
     "data": {
      "text/latex": [
       "$\\displaystyle \n",
       "        \\large{\n",
       "            \\begin{equation}\n",
       "\n",
       "            \\begin{pmatrix}\n",
       "            0.0&0.707107&-0.707107&0.0\n",
       "            \\end{pmatrix}\n",
       "\n",
       "            \\cdot \n",
       "\n",
       "            \\begin{pmatrix}\n",
       "            1.0\\\\1.0\\\\0.0\\\\0.0\n",
       "            \\end{pmatrix}\n",
       "\n",
       "            =\n",
       "\n",
       "            0.707107\n",
       "\n",
       "            \\end{equation}\n",
       "        }\n",
       "    $"
      ],
      "text/plain": [
       "<IPython.core.display.Math object>"
      ]
     },
     "metadata": {},
     "output_type": "display_data"
    }
   ],
   "source": [
    "result = np.dot(psi.conj().T, t)\n",
    "print_eqn(psi.conj().T, t, result)"
   ]
  },
  {
   "cell_type": "code",
   "execution_count": 190,
   "metadata": {},
   "outputs": [
    {
     "data": {
      "text/latex": [
       "$\\displaystyle \n",
       "        \\large{\n",
       "            \\begin{equation}\n",
       "            0.707107^2 = 0.5\n",
       "            \\end{equation}\n",
       "        }\n",
       "    $"
      ],
      "text/plain": [
       "<IPython.core.display.Math object>"
      ]
     },
     "metadata": {},
     "output_type": "display_data"
    }
   ],
   "source": [
    "print_square(result)"
   ]
  },
  {
   "cell_type": "markdown",
   "metadata": {},
   "source": [
    "So as expected, measuring one of the particles has a 50% chance of resulting in up.\n",
    "\n",
    "But what happens to the other particle when we make a measurement? Well, the observation of one part of the entangled state collapses the state to be consistent with the observation.\n",
    "\n",
    "Let's say our observation showed that the first particle is down.\n",
    "\n",
    "Our state changes to this:"
   ]
  },
  {
   "cell_type": "code",
   "execution_count": 192,
   "metadata": {},
   "outputs": [
    {
     "data": {
      "text/latex": [
       "$\\displaystyle \n",
       "        \\large{\n",
       "            \\begin{align*}\n",
       "             &= \n",
       "            \\begin{pmatrix}\n",
       "            0\\\\0\\\\1\\\\0\n",
       "            \\end{pmatrix}\n",
       "            \\end{align*}\n",
       "        }\n",
       "    $"
      ],
      "text/plain": [
       "<IPython.core.display.Math object>"
      ]
     },
     "metadata": {},
     "output_type": "display_data"
    }
   ],
   "source": [
    "psi2 = np.kron(d, u)\n",
    "print_matrix(\"\",psi2)"
   ]
  },
  {
   "cell_type": "markdown",
   "metadata": {},
   "source": [
    "So from now on, there is no randomness in any measurements, even though the second particle hasn't been observed at all."
   ]
  },
  {
   "cell_type": "code",
   "execution_count": null,
   "metadata": {},
   "outputs": [],
   "source": []
  }
 ],
 "metadata": {
  "kernelspec": {
   "display_name": "Python 3",
   "language": "python",
   "name": "python3"
  },
  "language_info": {
   "codemirror_mode": {
    "name": "ipython",
    "version": 3
   },
   "file_extension": ".py",
   "mimetype": "text/x-python",
   "name": "python",
   "nbconvert_exporter": "python",
   "pygments_lexer": "ipython3",
   "version": "3.7.6"
  }
 },
 "nbformat": 4,
 "nbformat_minor": 2
}
