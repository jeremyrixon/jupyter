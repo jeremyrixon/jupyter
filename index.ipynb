{
 "cells": [
  {
   "cell_type": "markdown",
   "metadata": {},
   "source": [
    "* Particles behave as waves, just like photons do\n",
    "* These are called Matter Waves (https://en.wikipedia.org/wiki/Matter_wave)\n",
    "* The heavier the particle, the shorter the wavelength\n",
    "* Things like electrons and protons are much heavier than photons so they have much shorter wavelengths\n",
    "* That's why the wave-like nature of matter particles wasn't noticed until De Broglie proposed their existence\n",
    "* When a particle moves, its wavefunction spreads out until its position is observed\n",
    "* When the particle's position is observed, its location is determined by the probabilities described by the wavefunction\n",
    "* Because the wavefunction behaves like a wave, it interferes with itself to cause peaks and troughs\n",
    "* The peaks and troughs determine the probability of finding the particle at a particular location\n",
    "* If the wavefunction cancels itself out (adds up to 0) at any point, the particle will never been found there\n"
   ]
  },
  {
   "cell_type": "code",
   "execution_count": 41,
   "metadata": {},
   "outputs": [
    {
     "name": "stdout",
     "output_type": "stream",
     "text": [
      "[[0 1 2]\n",
      " [3 2 5]\n",
      " [6 7 8]]\n"
     ]
    }
   ],
   "source": [
    "import numpy as np\n",
    "\n",
    "j = np.array([[0, 1, 2],\n",
    "              [3, 2, 5],\n",
    "              [6, 7, 8]])\n",
    "\n",
    "print(j)\n",
    "\n"
   ]
  },
  {
   "cell_type": "code",
   "execution_count": 42,
   "metadata": {},
   "outputs": [
    {
     "data": {
      "text/latex": [
       "$\\displaystyle \n",
       "        \\begin{equation*}\n",
       "        a = \n",
       "        \\begin{pmatrix}\n",
       "        0&1&2\\\\3&2&5\\\\6&7&8\n",
       "        \\end{pmatrix}\n",
       "        \\end{equation*}\n",
       "    $"
      ],
      "text/plain": [
       "<IPython.core.display.Math object>"
      ]
     },
     "metadata": {},
     "output_type": "display_data"
    }
   ],
   "source": [
    "from IPython.display import display, Math\n",
    "\n",
    "def print_matrix(name, matrix):\n",
    "    row_sep = r\"\\\\\"\n",
    "    col_sep = \"&\"\n",
    "    display(Math(rf\"\"\"$$$\n",
    "        \\begin{{equation*}}\n",
    "        {name} = \n",
    "        \\begin{{pmatrix}}\n",
    "        {row_sep.join(map(lambda row: col_sep.join(map(str, row)), matrix))}\n",
    "        \\end{{pmatrix}}\n",
    "        \\end{{equation*}}\n",
    "    $$$\"\"\"))\n",
    "    \n",
    "print_matrix(\"a\", j)"
   ]
  },
  {
   "cell_type": "code",
   "execution_count": null,
   "metadata": {},
   "outputs": [],
   "source": []
  }
 ],
 "metadata": {
  "kernelspec": {
   "display_name": "Python 3",
   "language": "python",
   "name": "python3"
  },
  "language_info": {
   "codemirror_mode": {
    "name": "ipython",
    "version": 3
   },
   "file_extension": ".py",
   "mimetype": "text/x-python",
   "name": "python",
   "nbconvert_exporter": "python",
   "pygments_lexer": "ipython3",
   "version": "3.7.3"
  }
 },
 "nbformat": 4,
 "nbformat_minor": 2
}
